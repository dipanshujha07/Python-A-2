{
 "cells": [
  {
   "cell_type": "code",
   "execution_count": null,
   "id": "004e2d9c-b653-4eec-93b8-ed2de7a1d590",
   "metadata": {},
   "outputs": [],
   "source": [
    "Ans 1\n",
    "By simply click tp store single qoute  as string in a varabiles.\n",
    "                                      for example d=\"pw skills\". \n",
    "                                       If I running d. \n",
    "        Its shows a reult 'pw skills'\n",
    "        this method store single quote"
   ]
  },
  {
   "cell_type": "code",
   "execution_count": 4,
   "id": "b906362c-82bf-45cc-8fe9-94d65542160b",
   "metadata": {},
   "outputs": [],
   "source": [
    "d=\"pw skills\""
   ]
  },
  {
   "cell_type": "code",
   "execution_count": 5,
   "id": "d377d0fb-120c-4e1e-b046-3ae3d8b8325e",
   "metadata": {},
   "outputs": [
    {
     "data": {
      "text/plain": [
       "'pw skills'"
      ]
     },
     "execution_count": 5,
     "metadata": {},
     "output_type": "execute_result"
    }
   ],
   "source": [
    "d"
   ]
  },
  {
   "cell_type": "code",
   "execution_count": null,
   "id": "e2e7ef61-7694-4e23-9349-869e86bffd25",
   "metadata": {},
   "outputs": [],
   "source": [
    "Ans 2\n",
    "x='a'\n",
    "its string  type varaible \n",
    "example given below"
   ]
  },
  {
   "cell_type": "code",
   "execution_count": 6,
   "id": "a518c173-ee3c-4089-920e-ad94bad46d64",
   "metadata": {},
   "outputs": [],
   "source": [
    "x='a'"
   ]
  },
  {
   "cell_type": "code",
   "execution_count": 7,
   "id": "0da15b3a-53c4-4dda-9511-c91d11ccd56b",
   "metadata": {},
   "outputs": [
    {
     "data": {
      "text/plain": [
       "'a'"
      ]
     },
     "execution_count": 7,
     "metadata": {},
     "output_type": "execute_result"
    }
   ],
   "source": [
    "x"
   ]
  },
  {
   "cell_type": "code",
   "execution_count": 9,
   "id": "3ce713aa-1284-46cc-9e5d-64adedef4885",
   "metadata": {},
   "outputs": [
    {
     "data": {
      "text/plain": [
       "str"
      ]
     },
     "execution_count": 9,
     "metadata": {},
     "output_type": "execute_result"
    }
   ],
   "source": [
    "type(x)"
   ]
  },
  {
   "cell_type": "code",
   "execution_count": null,
   "id": "92cb185c-8622-4ea9-9fa6-6b1526b95b6a",
   "metadata": {},
   "outputs": [],
   "source": [
    "Ans 3"
   ]
  },
  {
   "cell_type": "code",
   "execution_count": 10,
   "id": "e70240ee-f4df-45c4-b762-29a2e7cb97c9",
   "metadata": {},
   "outputs": [],
   "source": [
    "p= 'Welcome to Python foundation course'"
   ]
  },
  {
   "cell_type": "code",
   "execution_count": 11,
   "id": "b685e77f-7137-4b55-8c1a-35c9279dd588",
   "metadata": {},
   "outputs": [
    {
     "data": {
      "text/plain": [
       "'Welcome to Python foundation course'"
      ]
     },
     "execution_count": 11,
     "metadata": {},
     "output_type": "execute_result"
    }
   ],
   "source": [
    "p"
   ]
  },
  {
   "cell_type": "code",
   "execution_count": 14,
   "id": "26269119-bd2a-496d-bbcb-4db19a8777c1",
   "metadata": {},
   "outputs": [
    {
     "data": {
      "text/plain": [
       "8"
      ]
     },
     "execution_count": 14,
     "metadata": {},
     "output_type": "execute_result"
    }
   ],
   "source": [
    "p.find('to')"
   ]
  },
  {
   "cell_type": "code",
   "execution_count": 15,
   "id": "b9e4c126-b5a5-4440-9a56-bd489f8645a2",
   "metadata": {},
   "outputs": [
    {
     "data": {
      "text/plain": [
       "9"
      ]
     },
     "execution_count": 15,
     "metadata": {},
     "output_type": "execute_result"
    }
   ],
   "source": [
    "len(d)"
   ]
  },
  {
   "cell_type": "code",
   "execution_count": 16,
   "id": "df5b3659-7da8-4156-90e1-9ca220d06937",
   "metadata": {},
   "outputs": [
    {
     "data": {
      "text/plain": [
       "1"
      ]
     },
     "execution_count": 16,
     "metadata": {},
     "output_type": "execute_result"
    }
   ],
   "source": [
    "p.count(p)"
   ]
  },
  {
   "cell_type": "code",
   "execution_count": null,
   "id": "629b2636-0e54-4f6a-856a-0748e23f3ac7",
   "metadata": {},
   "outputs": [],
   "source": [
    "Ans 4"
   ]
  },
  {
   "cell_type": "code",
   "execution_count": 20,
   "id": "0ca10dff-ee26-4ade-b5c4-d721faf7e5fe",
   "metadata": {},
   "outputs": [],
   "source": [
    "word='PanaJi@12256'"
   ]
  },
  {
   "cell_type": "code",
   "execution_count": 21,
   "id": "e509e179-a08a-4c7b-894b-e198c3d8435e",
   "metadata": {},
   "outputs": [
    {
     "data": {
      "text/plain": [
       "'PanaJi@12256'"
      ]
     },
     "execution_count": 21,
     "metadata": {},
     "output_type": "execute_result"
    }
   ],
   "source": [
    "word"
   ]
  },
  {
   "cell_type": "code",
   "execution_count": 22,
   "id": "b56bf22e-1ec5-4fb7-8ac9-01763d675ca2",
   "metadata": {},
   "outputs": [
    {
     "data": {
      "text/plain": [
       "'panaji@12256'"
      ]
     },
     "execution_count": 22,
     "metadata": {},
     "output_type": "execute_result"
    }
   ],
   "source": [
    "word.lower()"
   ]
  },
  {
   "cell_type": "code",
   "execution_count": 23,
   "id": "719f9d6e-e32d-4cff-bf29-a3de73af54a8",
   "metadata": {},
   "outputs": [
    {
     "data": {
      "text/plain": [
       "'PANAJI@12256'"
      ]
     },
     "execution_count": 23,
     "metadata": {},
     "output_type": "execute_result"
    }
   ],
   "source": [
    "word.upper()"
   ]
  },
  {
   "cell_type": "code",
   "execution_count": null,
   "id": "bde100cb-02c8-43c0-a126-5ab457797e95",
   "metadata": {},
   "outputs": [],
   "source": []
  }
 ],
 "metadata": {
  "kernelspec": {
   "display_name": "Python 3 (ipykernel)",
   "language": "python",
   "name": "python3"
  },
  "language_info": {
   "codemirror_mode": {
    "name": "ipython",
    "version": 3
   },
   "file_extension": ".py",
   "mimetype": "text/x-python",
   "name": "python",
   "nbconvert_exporter": "python",
   "pygments_lexer": "ipython3",
   "version": "3.10.8"
  }
 },
 "nbformat": 4,
 "nbformat_minor": 5
}
